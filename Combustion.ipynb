{
 "cells": [
  {
   "cell_type": "markdown",
   "metadata": {},
   "source": [
    "# Propane Combustion\n",
    "\n",
    "<img src=\"propaneAccessories.jpg\" width=200>\n",
    "\n",
    "This notebook describes the combustion process for propane and dry air.\n",
    "\n",
    "## Chemical Equation\n",
    "$ C_3H_8 + 5O_2 \\to 3CO_2 + 4H_2O + 2.219 MJ(heat) $\n",
    "\n",
    "if including non-reacting Nitrogen (to account for all mass entering and leaving system), this goes to:\n",
    "\n",
    "$ C_3H_8 + 5O_2 + 9.4N_2  \\to 3CO_2 + 4H_2O + 9.4N_2 + 2.219 MJ(heat) $\n",
    "\n",
    "if oxygen-starved:\n",
    "\n",
    "$2C_3H_8 + 9O_2 \\to 4CO_2 + 2CO + 8H_2O + heat$\n",
    "\n",
    "or\n",
    "\n",
    "$C_3H_8 + 2O_2 \\to 3C + 4H_2O + heat$"
   ]
  },
  {
   "cell_type": "markdown",
   "metadata": {},
   "source": [
    "## Propane\n",
    "- Heat of Combustion (HHV): 2.219 MJ/mol (Wikipedia)\n",
    "- Heat of Combustion (LHV): 2043.455 kJ / mol (Wikipedia)\n",
    "- Standard enthalpy of Formation: $\\Delta_fH_{298}^{\\ominus} = -104.7 kJ \\cdot mol^{-1}$ (100 KPa, 298.15K) \n",
    "\n",
    "LHV, or lower heating value, subtracts the energy necessary to vaporize the water from the reaction's heat product. This makes sense, as the water is in a gaseous state and not a liquid state at the end of the reaction.\n",
    "\n",
    "- Molar mass 44.097:\n",
    "\n",
    "Element | Atomic Mass | Quantity | Total |\n",
    "--------|-------------|----------|-------|\n",
    "Carbon  | 12.011      | 3        | 36.033|\n",
    "Hydrogen| 1.008       | 8        | 8.064 |\n",
    "Total   |             |          | 44.097|\n",
    "\n",
    "- Heat Capacity: 73.6 $ \\frac{J \\cdot K }{mol} $"
   ]
  },
  {
   "cell_type": "markdown",
   "metadata": {},
   "source": [
    "## Air\n",
    "Constituent  | Molecular Mass | Mass Fraction | Total  \n",
    "--------|-------------|---------------|-------|\n",
    "Atmospheric $N_2$   | 28.16      | 0.79          | 22.2464 |\n",
    "$O_2$   | 31.998      | 0.21          | 6.71958|\n",
    "Total   |             | 1             | 28.966 |\n",
    "\n",
    "For simplicity, I'm including Argon and trace elements in the Nitrogen mass fraction, and using a slightly different mass for N2 to account for it."
   ]
  },
  {
   "cell_type": "markdown",
   "metadata": {},
   "source": [
    "## Water\n",
    "Element | Atomic Mass | Quantity | Total |\n",
    "--------|-------------|----------|-------|\n",
    "Oxygen  | 15.999      | 1        | 15.999|\n",
    "Hydrogen| 1.008       | 2        | 2.016 |\n",
    "Total   |             |          | 18.015|\n",
    "\n",
    "- Heat of formation (liquid): -285.83 kJ/mol"
   ]
  },
  {
   "cell_type": "markdown",
   "metadata": {},
   "source": [
    "## Carbon Dioxide\n",
    "Element | Atomic Mass | Quantity | Total |\n",
    "--------|-------------|----------|-------|\n",
    "Oxygen  | 15.999      | 2        | 31.998|\n",
    "Carbon  | 12.011      | 1        | 2.016 |\n",
    "Total   |             |          | 34.014|\n",
    "\n",
    "- Heat of formation (gas): -393.52 kJ/mol \n",
    "\n",
    "NIST site: https://webbook.nist.gov/cgi/cbook.cgi?ID=C124389&Units=SI&Mask=1#Thermo-Gas"
   ]
  },
  {
   "cell_type": "markdown",
   "metadata": {},
   "source": [
    "## Flame Properties\n",
    "\n",
    "### Stoichiometric air-fuel ratio\n",
    "\n",
    "For every mole of fuel, we need 5 moles of oxygen.\n",
    "\n",
    "For every mole of oxygen, we have 1/0.21 or 4.76  moles of air.\n",
    "\n",
    "Therefore, the molar fuel ratio is $ 5 \\times 4.76 = 23.81 $ moles of air per mole of fuel.\n",
    "\n",
    "The mass flow air-fuel ratio is:\n",
    "\n",
    "$ \\frac{23.81 mol Air}{1 mol C_3H_8} \\times \\frac{28.966 g Air}{1 mol Air} \\times \\frac{1 mol C_3H_8}{44.097 mol C_3H_8} =  15.64 \\frac {g Air}{g Propane}$"
   ]
  },
  {
   "cell_type": "markdown",
   "metadata": {},
   "source": [
    "### Adiabatic Flame Temperature\n",
    "Combustion is isenthalpic, so the enthalpy of formation for the products equals that for the reactants.\n",
    "\n",
    "$ \\displaystyle \\sum_R n_i(\\bar h_f^\\circ + \\Delta \\bar h)_i = \\sum_P n_e(\\bar h_f^\\circ + \\Delta \\bar h)_e$\n",
    "\n",
    "Reactant | moles n| Heat of Formation $ \\Delta \\bar h_f^\\ominus $ | $ c_{p,avg} $\n",
    "----------|---|---------------------------|-----------------\n",
    "$C_3H_8$  | 1 | $-104.7 kJ \\cdot mol^{-1} $  | 45 $ J/{mol \\cdot K} $\n",
    "$ CO_2 $  | 3 | $-393.52 kJ \\cdot mol^{-1} $ | 35 $ J/{mol \\cdot K} $\n",
    "$ H_2O $  | 4 | $-285.83 kJ \\cdot mol^{-1} $ | 35 $ J/{mol \\cdot K} $\n",
    "$ N_2  $  | 9.4 | 0                          | 30 $ J/{mol \\cdot K} $\n",
    "\n",
    "$ \\Delta \\bar h_f^\\ominus C_3H_8 - 3 \\Delta \\bar h_f^\\ominus CO_2 -  4 \\Delta \\bar h_f^\\ominus H_2O = \\sum_P n_e\\Delta \\bar h_e = 2219.18 kJ /mol$\n",
    "\n",
    "Using $\\Delta \\bar h = \\bar c_{p,avg} \\Delta T $\n",
    "\n",
    "$2219.18 kJ/mol = \\sum_P n_e\\Delta \\bar h_e = \\Delta T(3 c_p{CO_2} + 4 c_p{H_20} +  9.4 c_p{N_2}) $\n",
    "\n",
    "$ 2219.18 kJ / mol = \\Delta T ( 0.527 kJ/{mol \\cdot K} ) $\n",
    "\n",
    "$ 4210 K = \\Delta T = 3,937C $\n",
    "This seems too high. Google says 1980C in air - something went wrong here.\n",
    "\n",
    "\n",
    "\n",
    "Ref: https://web.mit.edu/16.unified/www/FALL/thermodynamics/notes/node111.html"
   ]
  },
  {
   "cell_type": "markdown",
   "metadata": {},
   "source": [
    "## Combustion Kinetics Notes\n",
    "Ratio of fuel to stoichiometric fuel is the equivalence ratio, $\\phi $\n",
    "\n",
    "Laminar flame speed, $V_L$ maxes out at about 0.45 m/s for C3H8. This occurs around the stoichiometric ratio. (Kinetics, p. 31)\n",
    "\n",
    "$\\lambda $ is used for the air/fuel ratio relative to stoichiometry.\n",
    "\n",
    "Turbulence can cause significant increase in reaction rate, as high as 5x.\n",
    "\n",
    "### Combustor sizing\n",
    "\n",
    "Chemical energy density in a combustor is given by the mass of fuel per unit volume times the fuel heat value. $E/V = \\rho_a fh$ (MIT Lecture 34, p. 3)\n",
    "\n",
    "Power density is then given by:\n",
    "\n",
    "$P/V = \\frac{\\rho fh}{t_{burn}} $\n",
    "\n",
    "This can be calculated as an estimate, and then used to calculate volumes of combustors on a similar order of magnitude.\n",
    "\n",
    "$t_{burn}$ can be estimated by considering that the rate of mixing, rather than flame velocity, is generally the limiting factor for turbulent flow. The expression $l_t / u_t $ can be used, with l_t being a size of an eddy current on the order of the combustor size, and u_t being some portion of the average velocity of gases in the combustor. \n",
    "\n",
    "Combustor volume for a given instance can then be determined given the thermal power desired and the characteristic P/V ratio:\n",
    "\n",
    "$V_c = \\frac{P_{th}}{P/V} $ \n",
    "\n",
    "http://webserver.dmt.upm.es/~isidoro/bk3/c15/Combustion%20kinetics.pdf\n",
    "\n",
    "### Stagnation temperature and pressure \n",
    "In order to induce zero flow, the pressure and temperature at \n"
   ]
  },
  {
   "cell_type": "code",
   "execution_count": null,
   "metadata": {},
   "outputs": [],
   "source": []
  }
 ],
 "metadata": {
  "kernelspec": {
   "display_name": "Python 3",
   "language": "python",
   "name": "python3"
  },
  "language_info": {
   "codemirror_mode": {
    "name": "ipython",
    "version": 3
   },
   "file_extension": ".py",
   "mimetype": "text/x-python",
   "name": "python",
   "nbconvert_exporter": "python",
   "pygments_lexer": "ipython3",
   "version": "3.6.5"
  }
 },
 "nbformat": 4,
 "nbformat_minor": 2
}
