{
 "cells": [
  {
   "cell_type": "markdown",
   "metadata": {},
   "source": [
    "# Propane Combustion\n",
    "\n",
    "<img src=\"propaneAccessories.jpg\" width=200>\n",
    "\n",
    "This notebook describes the combustion process for propane and dry air.\n",
    "\n",
    "## Chemical Equation\n",
    "$ C_3H_8 + 5O_2 \\to 3CO_2 + 4H_2O + 2.219 MJ(heat) $\n",
    "\n",
    "if including non-reacting Nitrogen (to account for all mass entering and leaving system), this goes to:\n",
    "\n",
    "$ C_3H_8 + 5O_2 + 9.4N_2  \\to 3CO_2 + 4H_2O + 9.4N_2 + 2.219 MJ(heat) $\n",
    "\n",
    "if oxygen-starved:\n",
    "\n",
    "$2C_3H_8 + 9O_2 \\to 4CO_2 + 2CO + 8H_2O + heat$\n",
    "\n",
    "or\n",
    "\n",
    "$C_3H_8 + 2O_2 \\to 3C + 4H_2O + heat$"
   ]
  },
  {
   "cell_type": "markdown",
   "metadata": {},
   "source": [
    "## Propane\n",
    "- Heat of Combustion (HHV): 2.219 MJ/mol (Wikipedia)\n",
    "- Heat of Combustion (LHV): 2043.455 kJ / mol (Wikipedia)\n",
    "LHV, or lower heating value, subtracts the energy necessary to vaporize the water from the reaction's heat product. This makes sense, as the water is in a gaseous state and not a liquid state at the end of the reaction.\n",
    "\n",
    "- Molar mass 44.097:\n",
    "\n",
    "Element | Atomic Mass | Quantity | Total |\n",
    "--------|-------------|----------|-------|\n",
    "Carbon  | 12.011      | 3        | 36.033|\n",
    "Hydrogen| 1.008       | 8        | 8.064 |\n",
    "Total   |             |          | 44.097|\n",
    "\n",
    "- Heat Capacity: 73.6 $ \\frac{J \\cdot K }{mol} $"
   ]
  },
  {
   "cell_type": "markdown",
   "metadata": {},
   "source": [
    "## Air\n",
    "Constituent  | Molecular Mass | Mass Fraction | Total |\n",
    "--------|-------------|---------------|-------|\n",
    "$N_2$   | 28.16      | 0.79          | 22.2464 |\n",
    "$O_2$   | 31.998      | 0.21          | 6.71958|\n",
    "Total   |             | 1             | 28.966 |\n",
    "\n",
    "For simplicity, I'm including Argon and trace elements in the Nitrogen mass fraction."
   ]
  },
  {
   "cell_type": "markdown",
   "metadata": {},
   "source": [
    "## Water\n",
    "Element | Atomic Mass | Quantity | Total |\n",
    "--------|-------------|----------|-------|\n",
    "Oxygen  | 15.999      | 1        | 15.999|\n",
    "Hydrogen| 1.008       | 2        | 2.016 |\n",
    "Total   |             |          | 18.015|"
   ]
  },
  {
   "cell_type": "markdown",
   "metadata": {},
   "source": [
    "## Carbon Dioxide\n",
    "Element | Atomic Mass | Quantity | Total |\n",
    "--------|-------------|----------|-------|\n",
    "Oxygen  | 15.999      | 2        | 31.998|\n",
    "Carbon  | 12.011      | 1        | 2.016 |\n",
    "Total   |             |          | 34.014|"
   ]
  },
  {
   "cell_type": "markdown",
   "metadata": {},
   "source": [
    "## Flame Properties\n",
    "\n",
    "### Stoichiometric air-fuel ratio\n",
    "\n",
    "\n",
    "### Adiabatic Flame Temperature\n",
    "\n"
   ]
  },
  {
   "cell_type": "code",
   "execution_count": null,
   "metadata": {},
   "outputs": [],
   "source": []
  }
 ],
 "metadata": {
  "kernelspec": {
   "display_name": "Python 3",
   "language": "python",
   "name": "python3"
  },
  "language_info": {
   "codemirror_mode": {
    "name": "ipython",
    "version": 3
   },
   "file_extension": ".py",
   "mimetype": "text/x-python",
   "name": "python",
   "nbconvert_exporter": "python",
   "pygments_lexer": "ipython3",
   "version": "3.6.5"
  }
 },
 "nbformat": 4,
 "nbformat_minor": 2
}
