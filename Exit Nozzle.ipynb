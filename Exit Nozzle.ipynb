{
 "cells": [
  {
   "cell_type": "markdown",
   "metadata": {},
   "source": [
    "# Nozzle Notes\n",
    "\n",
    "This notebook will be a place to try out nozzle design via the method of characteristics. It is assumed that maximum thrust is the quantity to be optimized, because that's the design example I could find. At a later date, I'd like to use similar methods to optimize for heat transfer to a workpiece per unit fuel consumed.\n",
    "\n",
    "This notebook is a nuts-and-bolts approach to information from H.L. Rozendaal's 1967 thesis paper, <b>\"A generalized method for the design of optimum rocket nozzles.\"</b> That paper can be found here:\n",
    "\n",
    "Rozendaal, Harvey Leo, \"A generalized method for the design of optimum rocket nozzles \" (1967).Retrospective Theses and Dissertations. 3964.https://lib.dr.iastate.edu/rtd/3964"
   ]
  },
  {
   "cell_type": "code",
   "execution_count": 1,
   "metadata": {},
   "outputs": [],
   "source": [
    "import matplotlib.pyplot as plt\n",
    "import numpy as np\n",
    "import pandas as pd\n",
    "\n"
   ]
  },
  {
   "cell_type": "markdown",
   "metadata": {},
   "source": [
    "## Given Quantities\n",
    "\n",
    "Stagnation enthalpy, pressure, density, temperature, and outlet pressure, along with a line of  initial data whereon $x,y,q,\\theta,p,\\rho $ are all specified. (Rozendaal, 9)\n",
    "\n",
    "\n"
   ]
  },
  {
   "cell_type": "code",
   "execution_count": 16,
   "metadata": {},
   "outputs": [
    {
     "name": "stdout",
     "output_type": "stream",
     "text": [
      "    x     y    q     theta          p    rho\n",
      "0   0  1.00  823  0.349000  132034600  2.453\n",
      "1   0  0.95  823  0.033155  132034600  2.453\n",
      "2   0  0.90  823  0.031410  132034600  2.453\n",
      "3   0  0.85  823  0.029665  132034600  2.453\n",
      "4   0  0.80  823  0.027920  132034600  2.453\n",
      "5   0  0.75  823  0.026175  132034600  2.453\n",
      "6   0  0.70  823  0.024430  132034600  2.453\n",
      "7   0  0.65  823  0.022685  132034600  2.453\n",
      "8   0  0.60  823  0.020940  132034600  2.453\n",
      "9   0  0.55  823  0.019195  132034600  2.453\n",
      "10  0  0.50  823  0.017650  132034600  2.453\n",
      "11  0  0.40  823  0.013960  132034600  2.453\n",
      "12  0  0.30  823  0.010470  132034600  2.453\n"
     ]
    }
   ],
   "source": [
    "# Gas constants\n",
    "gamma = 1.4 # Ratio of constant temperature and pressure specific heats\n",
    "k_air = 287.05 # Gas constant for air in Joule/(kg*K)\n",
    "\n",
    "# Stagnation conditions (combustion chamber)\n",
    "h_0 = 2314 # stagnation enthalpy in Joules\n",
    "p_0 = 200000 # about two atmospheres stagnation pressure, pascals\n",
    "t_in = 2253.15 # inlet temperature at 1980C, adiabatic flame temp for propane\n",
    "rho_0 = 1.2 # inlet density (using that of air in kg/m3)\n",
    "\n",
    "# Outlet conditions\n",
    "p_out = 101325 # let out at atmospheric pressure\n",
    "\n",
    "# nozzle length\n",
    "x_f = 5 # 5 centimeters\n",
    "\n",
    "\n",
    "\n",
    "# Initial data line\n",
    "# how to arrive at this data is given by Saur and Ahlberg - look this up.\n",
    "d = {'x':[0,0,0,0,0,0,0,0,0,0,0,0,0],\n",
    "     'y':[1,0.95,0.9,0.85,0.8,0.75,0.7,0.65,0.6,0.55,0.5,0.4,0.3],\n",
    "     'q':[823,823,823,823,823,823,823,823,823,823,823,823,823],# velocity in m/s\n",
    "     'theta':[0.349,0.033155,0.031410,0.029665,0.027920,0.026175,0.024430,0.022685,0.02094,0.019195,0.01765,0.01396,0.01047],\n",
    "     'p':[132034600,132034600,132034600,132034600,132034600,132034600,132034600,132034600,132034600,132034600,132034600,132034600,132034600],\n",
    "     'rho':[2.453,2.453,2.453,2.453,2.453,2.453,2.453,2.453,2.453,2.453,2.453,2.453,2.453]}\n",
    "\n",
    "df0 = pd.DataFrame(data=d)\n",
    "\n",
    "print(df0)\n"
   ]
  },
  {
   "cell_type": "code",
   "execution_count": null,
   "metadata": {},
   "outputs": [],
   "source": [
    "# Getting ready to compute.\n",
    "\n",
    "# independent variable: x\n",
    "x=0\n",
    "# control variable: alpha - rate of change of nozzle wall slope with respect to x\n",
    "alpha=0\n",
    "\n",
    "# Performance function: R - portion of thrust due to pressure differential on nozzle wall\n",
    "# We will use the two-dimensional version. This is also labeled 'phi'\n",
    "R = lambda x,p,p_0,theta: 2*((p*x*tan(theta))-(p_0*x*tan(theta))) #integral from zero to x\n",
    "# Cutoff function omega# \n",
    "omega = lambda x: x-x_f"
   ]
  },
  {
   "cell_type": "code",
   "execution_count": null,
   "metadata": {},
   "outputs": [],
   "source": [
    "#\n",
    "# Computation procedure\n",
    "#\n",
    "\n",
    "# Define alpha_nom - nominal perturbation distribution\n",
    "\n",
    "# let alpha = alpha_nom\n",
    "# let alpha_save = alpha\n",
    "\n",
    "# Algorithm control variables\n",
    "converged = False\n",
    "trial_run = True\n",
    "trial_success = True\n",
    "\n",
    "while(converged==False):\n",
    "\n",
    "    # Integrate alpha to get theta nd y distributions for nozzle wall"
   ]
  },
  {
   "cell_type": "markdown",
   "metadata": {},
   "source": [
    "$\\theta^* (x) = \\int_0^x a^*(t) dt $"
   ]
  },
  {
   "cell_type": "markdown",
   "metadata": {},
   "source": [
    "$y^*(x) = \\int_0^x tan(\\theta^*(t))dt$"
   ]
  },
  {
   "cell_type": "code",
   "execution_count": 15,
   "metadata": {},
   "outputs": [],
   "source": [
    "    \n",
    "    # get nozzle flowfield by method of characteristics\n",
    "    # compute, store F and G matrices\n",
    "    # compute phi\n",
    "\n",
    "    if(trial_run==True):\n",
    "        print(\"Hi\")\n",
    "        # Save trial results if they're successful\n",
    "        if(trial_success):\n",
    "            alpha_save = alpha\n",
    "        else:\n",
    "            print(\"Trial failed. Scaling d_alpha.\")\n",
    "            # scale d_alpha\n",
    "    else: # not a trial run.\n",
    "        print(\"Updating convergence test\")\n",
    "    \n",
    "    # if we're not converged, keep going.\n",
    "    if(converged==False):\n",
    "        print (\"hi\")\n",
    "        if(trial_run=False):\n",
    "            # integrate backward to compute I's lambdas, and W\n",
    "            #compute d_alpha based on new I's and lambdas\n",
    "            # set trial step to true\n",
    "        \n",
    "        # set alpha to alpha_save + d_alpha\n",
    "        alpha = alpha_save + d_alpha"
   ]
  },
  {
   "cell_type": "markdown",
   "metadata": {},
   "source": [
    "Resources\n",
    "\n",
    "http://seitzman.gatech.edu/classes/ae6450/nozzle_geometries.pdf\n",
    "\n",
    "Rozendaal, Harvey Leo, \"A generalized method for the design of optimum rocket nozzles \" (1967).Retrospective Theses and Dissertations. 3964.https://lib.dr.iastate.edu/rtd/3964\n",
    "\n",
    "\n",
    "https://ntrs.nasa.gov/archive/nasa/casi.ntrs.nasa.gov/19830016278.pdf"
   ]
  },
  {
   "cell_type": "markdown",
   "metadata": {},
   "source": [
    "Lecture Notes -\n",
    "https://ocw.mit.edu/courses/aeronautics-and-astronautics/16-50-introduction-to-propulsion-systems-spring-2012/lecture-notes/MIT16_50S12_lec6.pdf\n",
    "\n",
    "\n",
    "\n",
    "https://ocw.mit.edu/courses/aeronautics-and-astronautics/16-50-introduction-to-propulsion-systems-spring-2012/lecture-notes/MIT16_50S12_lec8.pdf"
   ]
  }
 ],
 "metadata": {
  "kernelspec": {
   "display_name": "Python 3",
   "language": "python",
   "name": "python3"
  },
  "language_info": {
   "codemirror_mode": {
    "name": "ipython",
    "version": 3
   },
   "file_extension": ".py",
   "mimetype": "text/x-python",
   "name": "python",
   "nbconvert_exporter": "python",
   "pygments_lexer": "ipython3",
   "version": "3.6.5"
  }
 },
 "nbformat": 4,
 "nbformat_minor": 2
}
