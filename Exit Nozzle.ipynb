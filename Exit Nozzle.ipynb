{
 "cells": [
  {
   "cell_type": "markdown",
   "metadata": {},
   "source": [
    "Nozzle Notes\n"
   ]
  },
  {
   "cell_type": "markdown",
   "metadata": {},
   "source": [
    "Resources\n",
    "\n",
    "http://seitzman.gatech.edu/classes/ae6450/nozzle_geometries.pdf\n",
    "\n",
    "Rozendaal, Harvey Leo, \"A generalized method for the design of optimum rocket nozzles \" (1967).Retrospective Theses andDissertations. 3964.https://lib.dr.iastate.edu/rtd/3964\n",
    "\n",
    "\n",
    "https://ntrs.nasa.gov/archive/nasa/casi.ntrs.nasa.gov/19830016278.pdf"
   ]
  },
  {
   "cell_type": "markdown",
   "metadata": {},
   "source": [
    "Lecture Notes -\n",
    "https://ocw.mit.edu/courses/aeronautics-and-astronautics/16-50-introduction-to-propulsion-systems-spring-2012/lecture-notes/MIT16_50S12_lec6.pdf\n",
    "\n",
    "\n",
    "\n",
    "https://ocw.mit.edu/courses/aeronautics-and-astronautics/16-50-introduction-to-propulsion-systems-spring-2012/lecture-notes/MIT16_50S12_lec8.pdf"
   ]
  }
 ],
 "metadata": {
  "kernelspec": {
   "display_name": "Python 3",
   "language": "python",
   "name": "python3"
  },
  "language_info": {
   "codemirror_mode": {
    "name": "ipython",
    "version": 3
   },
   "file_extension": ".py",
   "mimetype": "text/x-python",
   "name": "python",
   "nbconvert_exporter": "python",
   "pygments_lexer": "ipython3",
   "version": "3.6.5"
  }
 },
 "nbformat": 4,
 "nbformat_minor": 2
}
