{
 "cells": [
  {
   "cell_type": "markdown",
   "metadata": {},
   "source": [
    "# Air Flow through Metering Orifices\n",
    "\n",
    "This notebook is a walkthrough of calculations needed to find the one-dimensional air flow through a M1 nozzle."
   ]
  },
  {
   "cell_type": "code",
   "execution_count": 13,
   "metadata": {},
   "outputs": [],
   "source": [
    "import math"
   ]
  },
  {
   "cell_type": "markdown",
   "metadata": {},
   "source": [
    "## Definitions\n",
    "First, we need to define some constants. Let's start with the specific R-value for air."
   ]
  },
  {
   "cell_type": "markdown",
   "metadata": {},
   "source": [
    "$ R_{spec} = 287.058 \\frac{J}{kg \\cdot K } $"
   ]
  },
  {
   "cell_type": "code",
   "execution_count": 6,
   "metadata": {},
   "outputs": [],
   "source": [
    "r_spec = 287.058"
   ]
  },
  {
   "cell_type": "markdown",
   "metadata": {},
   "source": [
    "Next, the k-value, which is the ratio between constant-pressure and constant-volume specific heats. This is usually consistent at about 1.4 for ideal diatomic gases - also usable for air.\n",
    "\n",
    "$ k = \\frac{C_0}{C_p} $"
   ]
  },
  {
   "cell_type": "code",
   "execution_count": 5,
   "metadata": {},
   "outputs": [],
   "source": [
    "k=1.4"
   ]
  },
  {
   "cell_type": "markdown",
   "metadata": {},
   "source": [
    "## Variables"
   ]
  },
  {
   "cell_type": "markdown",
   "metadata": {},
   "source": [
    "First variable is the original temperature of the gas $T_0$, in Kelvin."
   ]
  },
  {
   "cell_type": "code",
   "execution_count": 4,
   "metadata": {},
   "outputs": [],
   "source": [
    "t_0 = 293.15"
   ]
  },
  {
   "cell_type": "markdown",
   "metadata": {},
   "source": [
    "Secondly, the original absolute pressure of the gas, $P_0$, in Pascals."
   ]
  },
  {
   "cell_type": "code",
   "execution_count": 16,
   "metadata": {},
   "outputs": [],
   "source": [
    "p_0 = 136325"
   ]
  },
  {
   "cell_type": "markdown",
   "metadata": {},
   "source": [
    "Then, we need to define our aperture size and area $A$ in meters and meters squared, respectively."
   ]
  },
  {
   "cell_type": "code",
   "execution_count": 14,
   "metadata": {},
   "outputs": [
    {
     "name": "stdout",
     "output_type": "stream",
     "text": [
      "7.853981633974482e-07\n"
     ]
    }
   ],
   "source": [
    "dia = 0.001\n",
    "A = math.pi*(0.5*dia)**2\n",
    "print(A)"
   ]
  },
  {
   "cell_type": "markdown",
   "metadata": {},
   "source": [
    "## Calculations"
   ]
  },
  {
   "cell_type": "markdown",
   "metadata": {},
   "source": [
    "### Finding the Critical Temperature\n",
    "\n",
    "The ratio of the critical temperature to the initial temperature is given by the relation\n",
    "$ \\frac{T*}{T_0} = \\frac{2}{k+1} $\n",
    "\n",
    "this gives the critical temperature as:\n",
    "\n",
    "$ T* = \\frac{2}{k+1} T_0 $"
   ]
  },
  {
   "cell_type": "code",
   "execution_count": 8,
   "metadata": {},
   "outputs": [
    {
     "name": "stdout",
     "output_type": "stream",
     "text": [
      "244.29166666666666\n"
     ]
    }
   ],
   "source": [
    "t_crit = (2*t_0)/(k+1)\n",
    "print(t_crit)"
   ]
  },
  {
   "cell_type": "markdown",
   "metadata": {},
   "source": [
    "The critical pressure ratio is given by:\n",
    "\n",
    "$ \\frac{P*}{P_0} = (\\frac{2}{k+1})^{\\frac{k}{k-1}} $\n"
   ]
  },
  {
   "cell_type": "code",
   "execution_count": 10,
   "metadata": {},
   "outputs": [
    {
     "name": "stdout",
     "output_type": "stream",
     "text": [
      "0.5282817877171742\n"
     ]
    }
   ],
   "source": [
    "p_rat = (2/(k+1))**(k/(k-1))\n",
    "print(p_rat)"
   ]
  },
  {
   "cell_type": "markdown",
   "metadata": {},
   "source": [
    "This gives a critical pressure in absolute Pascals of:"
   ]
  },
  {
   "cell_type": "code",
   "execution_count": 20,
   "metadata": {},
   "outputs": [
    {
     "name": "stdout",
     "output_type": "stream",
     "text": [
      "72018.01471054376\n"
     ]
    }
   ],
   "source": [
    "p_crit = p_rat * p_0\n",
    "print (p_crit)"
   ]
  },
  {
   "cell_type": "markdown",
   "metadata": {},
   "source": [
    "The speed of sound is the maximum outflow velocity - this is the metering bit. This is given by:\n",
    "\n",
    "$ \\bar V = \\sqrt{kR_{spec}T} $"
   ]
  },
  {
   "cell_type": "code",
   "execution_count": 21,
   "metadata": {},
   "outputs": [
    {
     "name": "stdout",
     "output_type": "stream",
     "text": [
      "313.3308605132919\n"
     ]
    }
   ],
   "source": [
    "v = (k*r_spec*t_crit)**0.5\n",
    "print(v)"
   ]
  },
  {
   "cell_type": "markdown",
   "metadata": {},
   "source": [
    "The critical density can then be found using:\n",
    "\n",
    "$ \\rho * = \\frac{P*}{R_{spec}T*} $"
   ]
  },
  {
   "cell_type": "code",
   "execution_count": 19,
   "metadata": {},
   "outputs": [
    {
     "name": "stdout",
     "output_type": "stream",
     "text": [
      "1.0269820148388058\n"
     ]
    }
   ],
   "source": [
    "rho_crit = p_crit/(r_spec*t_crit)\n",
    "print(rho_crit)"
   ]
  },
  {
   "cell_type": "markdown",
   "metadata": {},
   "source": [
    "Finally, the mass flow in $kg / s$ through the orifice:\n",
    "\n",
    "$ \\dot m = \\rho A \\bar V $"
   ]
  },
  {
   "cell_type": "code",
   "execution_count": 25,
   "metadata": {},
   "outputs": [
    {
     "name": "stdout",
     "output_type": "stream",
     "text": [
      "0.0002527294724482104\n"
     ]
    }
   ],
   "source": [
    "massflow = rho_crit * A * v\n",
    "print(massflow)"
   ]
  },
  {
   "cell_type": "markdown",
   "metadata": {},
   "source": [
    "And in grams per second:"
   ]
  },
  {
   "cell_type": "code",
   "execution_count": 24,
   "metadata": {},
   "outputs": [
    {
     "name": "stdout",
     "output_type": "stream",
     "text": [
      "0.2527294724482104\n"
     ]
    }
   ],
   "source": [
    "print(1000*massflow)"
   ]
  },
  {
   "cell_type": "code",
   "execution_count": null,
   "metadata": {},
   "outputs": [],
   "source": []
  }
 ],
 "metadata": {
  "kernelspec": {
   "display_name": "Python 3",
   "language": "python",
   "name": "python3"
  },
  "language_info": {
   "codemirror_mode": {
    "name": "ipython",
    "version": 3
   },
   "file_extension": ".py",
   "mimetype": "text/x-python",
   "name": "python",
   "nbconvert_exporter": "python",
   "pygments_lexer": "ipython3",
   "version": "3.6.5"
  }
 },
 "nbformat": 4,
 "nbformat_minor": 2
}
