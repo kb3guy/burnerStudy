{
 "cells": [
  {
   "cell_type": "code",
   "execution_count": 90,
   "metadata": {},
   "outputs": [],
   "source": [
    "import matplotlib.pyplot as plt\n",
    "import matplotlib.path as mpath\n",
    "import matplotlib.lines as mlines\n",
    "import matplotlib.patches as mpatches\n",
    "\n",
    "import numpy as np\n",
    "import pandas as pd\n",
    "import math\n",
    "\n",
    "from ipywidgets import interact,interactive,fixed,interact_manual\n",
    "import ipywidgets as widgets\n"
   ]
  },
  {
   "cell_type": "markdown",
   "metadata": {},
   "source": [
    "## Nozzle Plotter\n",
    "\n",
    "Input quantities:\n",
    "\n",
    "- throat radius\n",
    "- throat curve radius\n",
    "- expansion half-angle\n",
    "- ratio of exit area to throat area\n",
    "\n"
   ]
  },
  {
   "cell_type": "code",
   "execution_count": 201,
   "metadata": {},
   "outputs": [],
   "source": [
    "class Nozzle:\n",
    "    def __init__(self,r_t,r_1,alpha,epsilon):\n",
    "        self.r_t = r_t # radius of throat\n",
    "        self.r_1 = r_1 # radius of throat curvature\n",
    "        self.alpha = alpha # expansion half-angle\n",
    "        self.epsilon = epsilon # throat to exit area ratio\n",
    "        \n",
    "        self.recalc() # get derived quantities for initial values\n",
    "        \n",
    "    def recalc(self):\n",
    "        # Establish coordinates for arcs\n",
    "        self.arcCenter = (0,self.r_t + self.r_1)\n",
    "        self.arclCenter = (0,-(self.r_t + self.r_1))\n",
    "        \n",
    "        # Establish coordinates for wall lines\n",
    "        #n_x and n_y are coordinates for the entry point\n",
    "        self.n_x = self.r_1*math.sin(math.radians(self.alpha))\n",
    "        self.n_y = self.r_t+(self.r_1*(1-math.cos(math.radians(self.alpha))))\n",
    "        \n",
    "        #e_x and e_y are coordinates for the exit point\n",
    "        self.r_e = math.sqrt(self.epsilon)*self.r_t\n",
    "        self.e_y = self.r_e\n",
    "        self.e_x = self.n_x + (self.r_e-self.n_y)/math.tan(math.radians(self.alpha))\n",
    "        \n",
    "    def newParams(self,r_t,r_1,alpha,epsilon):\n",
    "        self.r_t = r_t\n",
    "        self.r_1 = r_1\n",
    "        self.alpha = alpha # expansion half-angle\n",
    "        self.epsilon = epsilon # throat to exit area ratio\n",
    "        \n",
    "        self.recalc() # get derived quantities for initial values\n",
    "        self.draw() # draw new figure\n",
    "        \n",
    "    def area(self,x): # return area of nozzle at position x\n",
    "        xmin = -self.r_1  # minimum x\n",
    "        x_trans = self.n_x # transition x\n",
    "        x_out = self.e_x # x at exit\n",
    "        retval = 0\n",
    "        \n",
    "        if(x<xmin):\n",
    "            #print(\"x below range\")\n",
    "            z=0\n",
    "        elif(x>=xmin and x<x_trans):\n",
    "            #x is within inlet circle\n",
    "            retval = math.pi*((self.r_t+self.r_1)-(math.sqrt((self.r_1**2)-(x**2))))**2\n",
    "        elif(x>x_trans and x<=x_out):\n",
    "            # x is in cone area\n",
    "            m = ((self.e_y-self.n_y)/(self.e_x-self.n_x))\n",
    "            b = (-m)*(self.n_x)+self.n_y\n",
    "            \n",
    "            retval = math.pi*((m*x+b)**2) #d'oh\n",
    "        else:\n",
    "            #print(\"x is above range\")\n",
    "            z=0\n",
    "        return retval\n",
    "    \n",
    "    def draw(self):\n",
    "        fig = plt.figure(figsize=(10,6))\n",
    "        ax = fig.add_subplot(111)\n",
    "        \n",
    "        axes = plt.gca()\n",
    "        axes.set_xlim([-1,9])\n",
    "        axes.set_ylim([-3,3])\n",
    "        \n",
    "        figh = 2*self.r_1\n",
    "        figw = 2*self.r_1\n",
    "        arc = mpatches.Arc(xy=self.arcCenter,width=figw,height=figh,theta1=180, theta2=270+self.alpha)\n",
    "        arcLow = mpatches.Arc(xy=self.arclCenter,width=figw,height=figh,theta1=90-self.alpha, theta2=180)\n",
    "        \n",
    "        ax.add_patch(arc)\n",
    "        ax.add_patch(arcLow)\n",
    "        \n",
    "        ax.plot([self.n_x,self.e_x],[self.n_y,self.e_y])\n",
    "        ax.plot([self.n_x,self.e_x],[-self.n_y,-self.e_y])\n",
    "        \n",
    "        plt.show()"
   ]
  },
  {
   "cell_type": "code",
   "execution_count": 202,
   "metadata": {},
   "outputs": [
    {
     "data": {
      "application/vnd.jupyter.widget-view+json": {
       "model_id": "dc520bac59a0468c92aaaf1283b23f6e",
       "version_major": 2,
       "version_minor": 0
      },
      "text/plain": [
       "VBox(children=(FloatSlider(value=0.5, continuous_update=False, description='Throat Radius', max=1.0, min=0.1, …"
      ]
     },
     "metadata": {},
     "output_type": "display_data"
    },
    {
     "data": {
      "application/vnd.jupyter.widget-view+json": {
       "model_id": "0e00d2e1b26b4155bd48c14f52214497",
       "version_major": 2,
       "version_minor": 0
      },
      "text/plain": [
       "Output()"
      ]
     },
     "metadata": {},
     "output_type": "display_data"
    }
   ],
   "source": [
    "schnozz = Nozzle(0.5,1,15,5)\n",
    "\n",
    "w_tr = widgets.FloatSlider(min=0.1,\n",
    "                           max=1, \n",
    "                           step=0.05,\n",
    "                           value=0.5,\n",
    "                           continuous_update=False,\n",
    "                          description = 'Throat Radius') # throat radius widget\n",
    "w_tc = widgets.FloatSlider(min=0.1, \n",
    "                           max=1, \n",
    "                           step =0.05,\n",
    "                           value=0.7,\n",
    "                           continuous_update=False,\n",
    "                          description = 'Curve Radius') # throat curve radius widget\n",
    "w_a = widgets.FloatSlider(min=0.1,\n",
    "                          max=30, \n",
    "                          step=0.1,\n",
    "                           continuous_update=False,\n",
    "                         description='Wall Angle') # wall angle widget\n",
    "w_e = widgets.FloatSlider(min=1.1, \n",
    "                          max=10, \n",
    "                          step=0.1,\n",
    "                           continuous_update=False,\n",
    "                         description='Area Ratio') # area ratio widget\n",
    "ui = widgets.VBox([w_tr,w_tc,w_a,w_e])\n",
    "\n",
    "out = widgets.interactive_output(schnozz.newParams, {'r_t':w_tr,'r_1':w_tc,'alpha':w_a,'epsilon':w_e})\n",
    "\n",
    "display(ui,out)"
   ]
  },
  {
   "cell_type": "code",
   "execution_count": 203,
   "metadata": {},
   "outputs": [
    {
     "name": "stdout",
     "output_type": "stream",
     "text": [
      "-0.7\n",
      "4.480780005672537\n",
      "[4.523893421169302, 2.164642049993341, 1.533548139586243, 1.1841671767316102, 0.9752799634098147, 0.8537253104889754, 0.7951115776293536, 0.7890157112685674, 0.8159385399451901, 0.8440104347229009, 0.8725570956766614, 0.9015785228064719, 0.9310747161123325, 0.9610456755942431, 0.9914914012522041, 1.0224118930862147, 1.0538071510962754, 1.085677175282386, 1.1180219656445467, 1.1508415221827575, 1.1841358448970187, 1.2179049337873296, 1.2521487888536902, 1.2868674100961015, 1.322060797514562, 1.3577289511090733, 1.3938718708796343, 1.430489556826245, 1.4675820089489067, 1.5051492272476177, 1.5431912117223787, 1.5817079623731898, 1.6206994792000506, 1.660165762202962, 1.700106811381923, 1.7405226267369347, 1.7814132082679957, 1.8227785559751069, 1.8646186698582683, 1.9069335499174795, 1.9497231961527413, 1.9929876085640525, 2.036726787151414, 2.080940731914825, 2.1256294428542866, 2.1707929199697986, 2.21643116326136, 2.2625441727289717, 2.3091319483726322, 2.3561944901923444]\n"
     ]
    },
    {
     "data": {
      "image/png": "[encoded data removed]",
      "text/plain": [
       "<Figure size 720x432 with 1 Axes>"
      ]
     },
     "metadata": {},
     "output_type": "display_data"
    }
   ],
   "source": [
    "#\n",
    "# Plotting out area vs. horizontal position\n",
    "#\n",
    "\n",
    "fig = plt.figure(figsize=(10,6))\n",
    "ax = fig.add_subplot(111)\n",
    "\n",
    "print(-schnozz.r_1)\n",
    "print(schnozz.e_x)\n",
    "\n",
    "xrange = np.linspace(-schnozz.r_1,schnozz.e_x,num=50)\n",
    "#print(xrange)\n",
    "\n",
    "yrange = []\n",
    "for x in xrange:\n",
    "    yrange.append(schnozz.area(x))\n",
    "    \n",
    "print(yrange)\n",
    "\n",
    "ax.plot(xrange,yrange)\n",
    "plt.title(\"Nozzle Area vs. horizontal position\")\n",
    "plt.show()\n",
    "\n",
    "\n"
   ]
  },
  {
   "cell_type": "code",
   "execution_count": 142,
   "metadata": {},
   "outputs": [],
   "source": [
    "class NozzleThermo:\n",
    "    #k - ratio of specific heats\n",
    "    #p_0 - stagnation pressure\n",
    "    #t_0 - stagnation temperature\n",
    "    #nozzle - nozzle object\n",
    "    def __init__(self,k,p_0,t_0,v_0,nozzle):\n",
    "        self.k = k\n",
    "        self.nozzle = nozzle\n",
    "        \n",
    "        self.t_rat = 2/(k+1)\n",
    "        self.p_rat = pow((2/(k+1)),(k/(k-1)))\n",
    "        self.rho_rat = pow((2/(k+1)),(1/(k-1)))\n",
    "        #self.a_rat =  area ratio\n",
    "    \n",
    "        self.R = 287.05 # Joules per kilogram-Kelvin for Air\n",
    "        \n",
    "nt = NozzleThermo(1.4,100,300,schnozz)"
   ]
  },
  {
   "cell_type": "markdown",
   "metadata": {},
   "source": [
    "Reference material:\n",
    "http://seitzman.gatech.edu/classes/ae6450/nozzle_geometries.pdf"
   ]
  }
 ],
 "metadata": {
  "kernelspec": {
   "display_name": "Python 3",
   "language": "python",
   "name": "python3"
  },
  "language_info": {
   "codemirror_mode": {
    "name": "ipython",
    "version": 3
   },
   "file_extension": ".py",
   "mimetype": "text/x-python",
   "name": "python",
   "nbconvert_exporter": "python",
   "pygments_lexer": "ipython3",
   "version": "3.6.5"
  }
 },
 "nbformat": 4,
 "nbformat_minor": 2
}
