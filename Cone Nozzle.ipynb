{
 "cells": [
  {
   "cell_type": "code",
   "execution_count": 90,
   "metadata": {},
   "outputs": [],
   "source": [
    "import matplotlib.pyplot as plt\n",
    "import matplotlib.path as mpath\n",
    "import matplotlib.lines as mlines\n",
    "import matplotlib.patches as mpatches\n",
    "\n",
    "import numpy as np\n",
    "import pandas as pd\n",
    "import math\n",
    "\n",
    "from ipywidgets import interact,interactive,fixed,interact_manual\n",
    "import ipywidgets as widgets\n"
   ]
  },
  {
   "cell_type": "markdown",
   "metadata": {},
   "source": [
    "## Nozzle Plotter\n",
    "\n",
    "Input quantities:\n",
    "\n",
    "- throat radius\n",
    "- throat curve radius\n",
    "- expansion half-angle\n",
    "- ratio of exit area to throat area\n",
    "\n"
   ]
  },
  {
   "cell_type": "code",
   "execution_count": 138,
   "metadata": {},
   "outputs": [],
   "source": [
    "class Nozzle:\n",
    "    def __init__(self,r_t,r_1,alpha,epsilon):\n",
    "        self.r_t = r_t # radius of throat\n",
    "        self.r_1 = r_1 # radius of throat curvature\n",
    "        self.alpha = alpha # expansion half-angle\n",
    "        self.epsilon = epsilon # throat to exit area ratio\n",
    "        \n",
    "        self.recalc() # get derived quantities for initial values\n",
    "        \n",
    "    def recalc(self):\n",
    "        # Establish coordinates for arcs\n",
    "        self.arcCenter = (0,self.r_t + self.r_1)\n",
    "        self.arclCenter = (0,-(self.r_t + self.r_1))\n",
    "        \n",
    "        # Establish coordinates for wall lines\n",
    "        #n_x and n_y are coordinates for the entry point\n",
    "        self.n_x = self.r_1*math.sin(math.radians(self.alpha))\n",
    "        self.n_y = self.r_t+(self.r_1*(1-math.cos(math.radians(self.alpha))))\n",
    "        \n",
    "        #e_x and e_y are coordinates for the exit point\n",
    "        self.r_e = math.sqrt(self.epsilon)*self.r_t\n",
    "        self.e_y = self.r_e\n",
    "        self.e_x = self.n_x + (self.r_e-self.n_y)/math.tan(math.radians(self.alpha))\n",
    "        \n",
    "    def newParams(self,r_t,r_1,alpha,epsilon):\n",
    "        self.r_t = r_t\n",
    "        self.r_1 = r_1\n",
    "        self.alpha = alpha # expansion half-angle\n",
    "        self.epsilon = epsilon # throat to exit area ratio\n",
    "        \n",
    "        self.recalc() # get derived quantities for initial values\n",
    "        self.draw() # draw new figure\n",
    "        \n",
    "    def draw(self):\n",
    "        fig = plt.figure(figsize=(10,6))\n",
    "        ax = fig.add_subplot(111)\n",
    "        \n",
    "        axes = plt.gca()\n",
    "        axes.set_xlim([-1,9])\n",
    "        axes.set_ylim([-3,3])\n",
    "        \n",
    "        figh = 2*self.r_1\n",
    "        figw = 2*self.r_1\n",
    "        arc = mpatches.Arc(xy=self.arcCenter,width=figw,height=figh,theta1=180, theta2=270+self.alpha)\n",
    "        arcLow = mpatches.Arc(xy=self.arclCenter,width=figw,height=figh,theta1=90-self.alpha, theta2=180)\n",
    "        \n",
    "        ax.add_patch(arc)\n",
    "        ax.add_patch(arcLow)\n",
    "        \n",
    "        ax.plot([self.n_x,self.e_x],[self.n_y,self.e_y])\n",
    "        ax.plot([self.n_x,self.e_x],[-self.n_y,-self.e_y])\n",
    "        \n",
    "        plt.show()"
   ]
  },
  {
   "cell_type": "code",
   "execution_count": 139,
   "metadata": {},
   "outputs": [
    {
     "data": {
      "application/vnd.jupyter.widget-view+json": {
       "model_id": "b94033c05c42470b843ec3e99c1bb204",
       "version_major": 2,
       "version_minor": 0
      },
      "text/plain": [
       "VBox(children=(FloatSlider(value=0.5, continuous_update=False, description='Throat Radius', max=1.0, min=0.1, …"
      ]
     },
     "metadata": {},
     "output_type": "display_data"
    },
    {
     "data": {
      "application/vnd.jupyter.widget-view+json": {
       "model_id": "037f414ed40d47b5b6eb94dc91355ec2",
       "version_major": 2,
       "version_minor": 0
      },
      "text/plain": [
       "Output()"
      ]
     },
     "metadata": {},
     "output_type": "display_data"
    }
   ],
   "source": [
    "schnozz = Nozzle(0.5,1,15,5)\n",
    "\n",
    "w_tr = widgets.FloatSlider(min=0.1,\n",
    "                           max=1, \n",
    "                           step=0.05,\n",
    "                           value=0.5,\n",
    "                           continuous_update=False,\n",
    "                          description = 'Throat Radius') # throat radius widget\n",
    "w_tc = widgets.FloatSlider(min=0.1, \n",
    "                           max=1, \n",
    "                           step =0.05,\n",
    "                           value=0.7,\n",
    "                           continuous_update=False,\n",
    "                          description = 'Curve Radius') # throat curve radius widget\n",
    "w_a = widgets.FloatSlider(min=0.1,\n",
    "                          max=30, \n",
    "                          step=0.1,\n",
    "                           continuous_update=False,\n",
    "                         description='Wall Angle') # wall angle widget\n",
    "w_e = widgets.FloatSlider(min=1.1, \n",
    "                          max=10, \n",
    "                          step=0.1,\n",
    "                           continuous_update=False,\n",
    "                         description='Area Ratio') # area ratio widget\n",
    "ui = widgets.VBox([w_tr,w_tc,w_a,w_e])\n",
    "\n",
    "out = widgets.interactive_output(schnozz.newParams, {'r_t':w_tr,'r_1':w_tc,'alpha':w_a,'epsilon':w_e})\n",
    "\n",
    "display(ui,out)"
   ]
  },
  {
   "cell_type": "markdown",
   "metadata": {},
   "source": [
    "Reference material:\n",
    "http://seitzman.gatech.edu/classes/ae6450/nozzle_geometries.pdf"
   ]
  }
 ],
 "metadata": {
  "kernelspec": {
   "display_name": "Python 3",
   "language": "python",
   "name": "python3"
  },
  "language_info": {
   "codemirror_mode": {
    "name": "ipython",
    "version": 3
   },
   "file_extension": ".py",
   "mimetype": "text/x-python",
   "name": "python",
   "nbconvert_exporter": "python",
   "pygments_lexer": "ipython3",
   "version": "3.6.5"
  }
 },
 "nbformat": 4,
 "nbformat_minor": 2
}
