{
 "cells": [
  {
   "cell_type": "code",
   "execution_count": 90,
   "metadata": {},
   "outputs": [],
   "source": [
    "import matplotlib.pyplot as plt\n",
    "import matplotlib.path as mpath\n",
    "import matplotlib.lines as mlines\n",
    "import matplotlib.patches as mpatches\n",
    "\n",
    "import numpy as np\n",
    "import pandas as pd\n",
    "import math\n",
    "\n",
    "from ipywidgets import interact,interactive,fixed,interact_manual\n",
    "import ipywidgets as widgets\n"
   ]
  },
  {
   "cell_type": "markdown",
   "metadata": {},
   "source": [
    "## Nozzle Plotter\n",
    "\n",
    "Input quantities:\n",
    "\n",
    "- throat radius\n",
    "- throat curve radius\n",
    "- expansion half-angle\n",
    "- ratio of exit area to throat area\n",
    "\n"
   ]
  },
  {
   "cell_type": "code",
   "execution_count": 201,
   "metadata": {},
   "outputs": [],
   "source": [
    "class Nozzle:\n",
    "    def __init__(self,r_t,r_1,alpha,epsilon):\n",
    "        self.r_t = r_t # radius of throat\n",
    "        self.r_1 = r_1 # radius of throat curvature\n",
    "        self.alpha = alpha # expansion half-angle\n",
    "        self.epsilon = epsilon # throat to exit area ratio\n",
    "        \n",
    "        self.recalc() # get derived quantities for initial values\n",
    "        \n",
    "    def recalc(self):\n",
    "        # Establish coordinates for arcs\n",
    "        self.arcCenter = (0,self.r_t + self.r_1)\n",
    "        self.arclCenter = (0,-(self.r_t + self.r_1))\n",
    "        \n",
    "        # Establish coordinates for wall lines\n",
    "        #n_x and n_y are coordinates for the entry point\n",
    "        self.n_x = self.r_1*math.sin(math.radians(self.alpha))\n",
    "        self.n_y = self.r_t+(self.r_1*(1-math.cos(math.radians(self.alpha))))\n",
    "        \n",
    "        #e_x and e_y are coordinates for the exit point\n",
    "        self.r_e = math.sqrt(self.epsilon)*self.r_t\n",
    "        self.e_y = self.r_e\n",
    "        self.e_x = self.n_x + (self.r_e-self.n_y)/math.tan(math.radians(self.alpha))\n",
    "        \n",
    "    def newParams(self,r_t,r_1,alpha,epsilon):\n",
    "        self.r_t = r_t\n",
    "        self.r_1 = r_1\n",
    "        self.alpha = alpha # expansion half-angle\n",
    "        self.epsilon = epsilon # throat to exit area ratio\n",
    "        \n",
    "        self.recalc() # get derived quantities for initial values\n",
    "        self.draw() # draw new figure\n",
    "        \n",
    "    def area(self,x): # return area of nozzle at position x\n",
    "        xmin = -self.r_1  # minimum x\n",
    "        x_trans = self.n_x # transition x\n",
    "        x_out = self.e_x # x at exit\n",
    "        retval = 0\n",
    "        \n",
    "        if(x<xmin):\n",
    "            #print(\"x below range\")\n",
    "            z=0\n",
    "        elif(x>=xmin and x<x_trans):\n",
    "            #x is within inlet circle\n",
    "            retval = math.pi*((self.r_t+self.r_1)-(math.sqrt((self.r_1**2)-(x**2))))**2\n",
    "        elif(x>x_trans and x<=x_out):\n",
    "            # x is in cone area\n",
    "            m = ((self.e_y-self.n_y)/(self.e_x-self.n_x))\n",
    "            b = (-m)*(self.n_x)+self.n_y\n",
    "            \n",
    "            retval = math.pi*((m*x+b)**2) #d'oh\n",
    "        else:\n",
    "            #print(\"x is above range\")\n",
    "            z=0\n",
    "        return retval\n",
    "    \n",
    "    def xvals(self): # returns a list that evenly divides the x-coordinates into intervals\n",
    "        \n",
    "        \n",
    "    \n",
    "    def draw(self):\n",
    "        fig = plt.figure(figsize=(10,6))\n",
    "        ax = fig.add_subplot(111)\n",
    "        \n",
    "        axes = plt.gca()\n",
    "        axes.set_xlim([-1,9])\n",
    "        axes.set_ylim([-3,3])\n",
    "        \n",
    "        figh = 2*self.r_1\n",
    "        figw = 2*self.r_1\n",
    "        arc = mpatches.Arc(xy=self.arcCenter,width=figw,height=figh,theta1=180, theta2=270+self.alpha)\n",
    "        arcLow = mpatches.Arc(xy=self.arclCenter,width=figw,height=figh,theta1=90-self.alpha, theta2=180)\n",
    "        \n",
    "        ax.add_patch(arc)\n",
    "        ax.add_patch(arcLow)\n",
    "        \n",
    "        ax.plot([self.n_x,self.e_x],[self.n_y,self.e_y])\n",
    "        ax.plot([self.n_x,self.e_x],[-self.n_y,-self.e_y])\n",
    "        \n",
    "        plt.show()"
   ]
  },
  {
   "cell_type": "code",
   "execution_count": 221,
   "metadata": {},
   "outputs": [
    {
     "data": {
      "application/vnd.jupyter.widget-view+json": {
       "model_id": "54895061ba1d4f95934530312a56447f",
       "version_major": 2,
       "version_minor": 0
      },
      "text/plain": [
       "VBox(children=(FloatSlider(value=0.5, continuous_update=False, description='Throat Radius', max=1.0, min=0.1, …"
      ]
     },
     "metadata": {},
     "output_type": "display_data"
    },
    {
     "data": {
      "application/vnd.jupyter.widget-view+json": {
       "model_id": "082be81512fe4ab696eafa358f8f15a6",
       "version_major": 2,
       "version_minor": 0
      },
      "text/plain": [
       "Output()"
      ]
     },
     "metadata": {},
     "output_type": "display_data"
    }
   ],
   "source": [
    "schnozz = Nozzle(0.5,1,15,5)\n",
    "\n",
    "w_tr = widgets.FloatSlider(min=0.1,\n",
    "                           max=1, \n",
    "                           step=0.05,\n",
    "                           value=0.5,\n",
    "                           continuous_update=False,\n",
    "                          description = 'Throat Radius') # throat radius widget\n",
    "w_tc = widgets.FloatSlider(min=0.1, \n",
    "                           max=1, \n",
    "                           step =0.05,\n",
    "                           value=0.7,\n",
    "                           continuous_update=False,\n",
    "                          description = 'Curve Radius') # throat curve radius widget\n",
    "w_a = widgets.FloatSlider(min=0.1,\n",
    "                          max=30, \n",
    "                          step=0.1,\n",
    "                           continuous_update=False,\n",
    "                         description='Wall Angle') # wall angle widget\n",
    "w_e = widgets.FloatSlider(min=1.1, \n",
    "                          max=10, \n",
    "                          step=0.1,\n",
    "                           continuous_update=False,\n",
    "                         description='Area Ratio') # area ratio widget\n",
    "ui = widgets.VBox([w_tr,w_tc,w_a,w_e])\n",
    "\n",
    "out = widgets.interactive_output(schnozz.newParams, {'r_t':w_tr,'r_1':w_tc,'alpha':w_a,'epsilon':w_e})\n",
    "\n",
    "display(ui,out)"
   ]
  },
  {
   "cell_type": "code",
   "execution_count": 238,
   "metadata": {},
   "outputs": [
    {
     "data": {
      "image/png": "[encoded data removed]",
      "text/plain": [
       "<Figure size 720x432 with 1 Axes>"
      ]
     },
     "metadata": {},
     "output_type": "display_data"
    }
   ],
   "source": [
    "#\n",
    "# Plotting out area vs. horizontal position\n",
    "#\n",
    "\n",
    "fig = plt.figure(figsize=(10,6))\n",
    "ax = fig.add_subplot(111)\n",
    "\n",
    "\n",
    "xrange = np.linspace(-schnozz.r_1,schnozz.e_x,num=50)\n",
    "#print(xrange)\n",
    "\n",
    "yrange = []\n",
    "for x in xrange:\n",
    "    yrange.append(schnozz.area(x))\n",
    "\n",
    "ax.plot(xrange,yrange)\n",
    "plt.title(\"Nozzle Area vs. horizontal position\")\n",
    "plt.show()\n",
    "\n",
    "\n"
   ]
  },
  {
   "cell_type": "markdown",
   "metadata": {},
   "source": [
    "# Derived Quantities\n",
    "\n",
    "Quantities of interest are massflow, pressure, temperature, density, and velocity.\n",
    "\n",
    "\n",
    "## Continuity relation\n",
    "$\\dot m = \\rho A(x)\\bar V$\n",
    "\n",
    "- massflow is equal to change in mass over time, and is constant"
   ]
  },
  {
   "cell_type": "markdown",
   "metadata": {},
   "source": [
    "## Constants"
   ]
  },
  {
   "cell_type": "code",
   "execution_count": 239,
   "metadata": {},
   "outputs": [],
   "source": [
    "A_0 = schnozz.area(0)\n",
    "\n",
    "# These are for our exhaust gas at the throat of the nozzle.\n",
    "p_0 = 101325\n",
    "R_s = 287.058\n",
    "T_0 = 2253.15\n",
    "\n",
    "massflow = 2 # this is in kg /s"
   ]
  },
  {
   "cell_type": "markdown",
   "metadata": {},
   "source": [
    "## Density of Exhaust Gas\n",
    "\n",
    "$ \\rho = \\frac{p}{R_{spec}}{T} $\n",
    "\n",
    "For our conditions\n",
    "\n",
    "$p = 101325$ Assuming one atmosphere of pressure\n",
    "\n",
    "$R_{spec} = 287.058 \\frac{J}{Kg \\cdot K} $  This is for air - update later to exhaust gas composition\n",
    "\n",
    "$T = 1980^\\circ C = 2253.15 K $"
   ]
  },
  {
   "cell_type": "code",
   "execution_count": 240,
   "metadata": {},
   "outputs": [
    {
     "name": "stdout",
     "output_type": "stream",
     "text": [
      "0.1566595420040594\n"
     ]
    }
   ],
   "source": [
    "rho = lambda x: p_0/(R_s*T_0)\n",
    "\n",
    "print(rho(0))"
   ]
  },
  {
   "cell_type": "markdown",
   "metadata": {},
   "source": [
    "## Exhaust Velocity\n",
    "\n",
    "For small values of velocity V relative to c, velocity can be approximated using the relation for incompressible flow:\n",
    "\n",
    "\n",
    "$ \\bar VA = constant $\n",
    "\n",
    "Given the area at the throat and the velocity at the throat $A_0$ and $\\bar V_0$,\n",
    "\n",
    "$ \\bar V(x) = A(x)\\frac{\\bar V_0}{A_0} $\n",
    "\n",
    "Also\n",
    "\n",
    "$ \\dot m = \\rho A(x)V(x) $\n",
    "\n",
    "$ V(x) = \\frac{\\dot m }{\\rho A(x)} $\n"
   ]
  },
  {
   "cell_type": "code",
   "execution_count": 241,
   "metadata": {},
   "outputs": [],
   "source": [
    "V = lambda x: massflow/(schnozz.area(x)*rho(x))"
   ]
  },
  {
   "cell_type": "code",
   "execution_count": 243,
   "metadata": {},
   "outputs": [
    {
     "name": "stdout",
     "output_type": "stream",
     "text": [
      "[-0.7        -0.63204317 -0.56408633 -0.4961295  -0.42817267 -0.36021583\n",
      " -0.292259   -0.22430217 -0.15634533 -0.0883885  -0.02043166  0.04752517\n",
      "  0.115482    0.18343884  0.25139567  0.3193525   0.38730934  0.45526617\n",
      "  0.523223    0.59117984  0.65913667  0.7270935   0.79505034  0.86300717\n",
      "  0.930964    0.99892084  1.06687767  1.13483451  1.20279134  1.27074817\n",
      "  1.33870501  1.40666184  1.47461867  1.54257551  1.61053234  1.67848917\n",
      "  1.74644601  1.81440284  1.88235967  1.95031651  2.01827334  2.08623017\n",
      "  2.15418701  2.22214384  2.29010068  2.35805751  2.42601434  2.49397118\n",
      "  2.56192801  2.62988484]\n",
      "2.6298848432842203\n",
      "[2.8220244901054157, 5.026621362664923, 6.586065340567325, 8.14871474166598, 9.731000174544628, 11.295768763579721, 12.778280818969076, 14.096799320912952, 15.16334552924947, 15.896603139913664, 16.235486727936088, 16.15034971333713, 15.64872405440873, 14.773843889965935, 13.779689307142093, 12.882548005944189, 12.070251509381299, 11.332428945484931, 10.660246927620301, 10.046143929834889, 9.483616699631451, 8.967047375266171, 8.491562677565122, 8.052918551409165, 7.647405132589937, 7.271768047936592, 6.923142917532473, 6.599000587305674, 6.297101128953731, 6.015455039127609, 5.75229037840203, 5.506024833125923, 5.275241874995102, 5.058670345589963, 4.855166914876722, 4.663700960426257, 4.4833414929628335, 4.313245817758308, 4.152649673397004, 4.000858631943164, 3.8572405794219944, 3.7212191242561667, 3.592267805053398, 3.469904988849892, 3.353689367323725, 3.2432159721992995, 3.1381126425506496, 3.038036886366589, 2.942673086880975, 2.8517300110538937]\n"
     ]
    },
    {
     "data": {
      "image/png": "[encoded data removed]",
      "text/plain": [
       "<Figure size 720x432 with 1 Axes>"
      ]
     },
     "metadata": {},
     "output_type": "display_data"
    }
   ],
   "source": [
    "velocity = []\n",
    "\n",
    "xrange = np.linspace(-schnozz.r_1,schnozz.e_x,num=50)\n",
    "for x in xrange:\n",
    "    velocity.append(V(x))\n",
    "    \n",
    "print(xrange)\n",
    "print(max(xrange))\n",
    "print(velocity)\n",
    "\n",
    "\n",
    "fig = plt.figure(figsize=(10,6))\n",
    "ax = fig.add_subplot(111)\n",
    "\n",
    "\n",
    "axes = plt.gca()\n",
    "axes.set_ylim([min(velocity),max(velocity)])\n",
    "axes.set_xlim([min(xrange),max(xrange)])\n",
    "    \n",
    "ax.plot(xrange,velocity)\n",
    "plt.title(\"Exhaust Velocity at points in the Burner\")\n",
    "plt.show()"
   ]
  },
  {
   "cell_type": "markdown",
   "metadata": {},
   "source": [
    "## Temperature of exhaust gases"
   ]
  },
  {
   "cell_type": "markdown",
   "metadata": {},
   "source": [
    "$Pv = mR_{spec}T$\n",
    "\n",
    "$T = \\frac{Pv}{mR_{spec}} $"
   ]
  },
  {
   "cell_type": "markdown",
   "metadata": {},
   "source": [
    "Reference material:\n",
    "http://seitzman.gatech.edu/classes/ae6450/nozzle_geometries.pdf"
   ]
  }
 ],
 "metadata": {
  "kernelspec": {
   "display_name": "Python 3",
   "language": "python",
   "name": "python3"
  },
  "language_info": {
   "codemirror_mode": {
    "name": "ipython",
    "version": 3
   },
   "file_extension": ".py",
   "mimetype": "text/x-python",
   "name": "python",
   "nbconvert_exporter": "python",
   "pygments_lexer": "ipython3",
   "version": "3.6.5"
  }
 },
 "nbformat": 4,
 "nbformat_minor": 2
}
