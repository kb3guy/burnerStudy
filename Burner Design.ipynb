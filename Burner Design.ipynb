{
 "cells": [
  {
   "cell_type": "markdown",
   "metadata": {},
   "source": [
    "# Burner Design\n",
    "\n",
    "This notebook is a tweakable calculator for designing a one-injector, compressed air / propane burner. It uses one-dimensional flow analysis to model system behavior.\n",
    "\n",
    "![Burner Graphic](burnerGraphic.png)\n"
   ]
  },
  {
   "cell_type": "markdown",
   "metadata": {},
   "source": [
    "## Inlet Parameters\n",
    "\n"
   ]
  },
  {
   "cell_type": "code",
   "execution_count": 20,
   "metadata": {},
   "outputs": [],
   "source": [
    "import math\n",
    "import ipywidgets as widgets\n",
    "from ipywidgets import interact, interact_manual\n",
    "from IPython.display import Markdown, display\n"
   ]
  },
  {
   "cell_type": "code",
   "execution_count": 77,
   "metadata": {},
   "outputs": [],
   "source": [
    "#\n",
    "#   Conversion Functions\n",
    "#\n",
    "    \n",
    "# celsius to kelvin conversion\n",
    "def ctok(c):\n",
    "    return c+273.15\n",
    "# gage psi to pascal absolute conversion\n",
    "def psigtopaabs(psi):\n",
    "    return (14.69595+psi)*6894.757\n",
    "    "
   ]
  },
  {
   "cell_type": "code",
   "execution_count": 183,
   "metadata": {},
   "outputs": [],
   "source": [
    "class Swirler:    \n",
    "    #\n",
    "    #   init and recalculate functions\n",
    "    #\n",
    "    \n",
    "    def __init__(self,name,inlets,diameter,temp,pressure, k, r_spec):\n",
    "        # bring in critical input values\n",
    "        self.name = name\n",
    "        self.inlets = inlets\n",
    "        self.throatdia = diameter/1000 # convert to meters\n",
    "        self.intemp = temp + 273.15 #convert to Kelvin\n",
    "        self.inpressure = psigtopaabs(pressure) # convert to Pa\n",
    "        self.k = k\n",
    "        self.r_spec = r_spec\n",
    "        \n",
    "        # calculate derived values   \n",
    "        self.recalc()\n",
    "        \n",
    "        # Initialize control widgets        \n",
    "        self.wCLabel = widgets.Label(self.name)\n",
    "        self.wThroat = widgets.FloatSlider(value = 0.5,\n",
    "                               min = 0.1,\n",
    "                               max = 1,\n",
    "                               step = 0.1,\n",
    "                               description = 'Dia (mm)')\n",
    "        self.wIntemp = widgets.FloatLogSlider(value = 20,\n",
    "                               base = 2,\n",
    "                               min = .5,\n",
    "                               max = 12,\n",
    "                               step = 0.1,\n",
    "                               description = 'Inlet (C)')\n",
    "        self.wInpressure = widgets.FloatSlider(value = 5,\n",
    "                               min = 0.1,\n",
    "                               max = 25,\n",
    "                               step = 0.1,\n",
    "                               description = 'Inlet (psig)')\n",
    "        self.wInlets = widgets.IntSlider(value = 1,\n",
    "                               min = 1,\n",
    "                               max = 16,\n",
    "                               step = 1,\n",
    "                               description = 'Inlet Count')\n",
    "        self.wControls = widgets.VBox([self.wCLabel,self.wThroat,self.wIntemp,self.wInpressure,self.wInlets])\n",
    "     \n",
    "    # recalculate all derived object-scope values       \n",
    "    def recalc(self):\n",
    "        self.inarea = math.pi*self.throatdia**2\n",
    "        self.t_crit = (2*self.intemp)/(self.k+1)\n",
    "        self.v_crit = (self.k*self.r_spec*self.t_crit)**0.5\n",
    "        self.p_crit = (2/(self.k+1))**(self.k/(self.k-1))*self.inpressure\n",
    "        self.rho_crit = self.p_crit/(self.r_spec*self.t_crit)\n",
    "        self.massflow = self.rho_crit * self.inarea * self.v_crit\n",
    "        self.inarea = math.pi*(self.throatdia/2)**2 \n",
    "    \n",
    "    # update independent variables from controls and display outputs\n",
    "    def changeIndependents(self,throatdia,temperature,pressure, inlets):\n",
    "        self.throatdia = throatdia/1000\n",
    "        self.intemp = ctok(temperature)\n",
    "        self.inpressure = psigtopaabs(pressure)\n",
    "        self.inlets = inlets\n",
    "        \n",
    "        self.recalc()\n",
    "        self.displayParams()\n",
    "    \n",
    "    \n",
    "    #\n",
    "    #  Visualization functions\n",
    "    #  \n",
    "    def displayParams(self):\n",
    "            \n",
    "        display(Markdown(\"## \"+self.name+\" Values\"))\n",
    "        \n",
    "        inputTable = (\"Parameter | Value | Units \\n\"\n",
    "                 \"--------- | ----- | ----- \\n\"\n",
    "                 \"Pressure: | \" + str(self.inpressure) +\"| Pa (abs) \\n\"\n",
    "                 \"Temperature: | \" + str(self.intemp) + \" | Kelvin \\n\"\n",
    "                 \"Discharge Area: | \" + str(self.inarea) + \" | m^3\")\n",
    "        \n",
    "        display(Markdown(inputTable))\n",
    "        \n",
    "        constantTable = (\"Parameter | Value | Units \\n\"\n",
    "                 \"--------- | ----- | ----- \\n\"\n",
    "                 \"Spec. Gas Const: | \"+ str(self.r_spec) + \"| $ J \\cdot kg^{-1} K^{-1} $ \\n\"\n",
    "                 \"spec. heat ratio k: | \" + str(self.k) +\"| dimensionless\")\n",
    "    \n",
    "        display(Markdown(constantTable))\n",
    "        \n",
    "        \n",
    "        outputTable = (\"Parameter | Value | Units \\n\"\n",
    "                 \"--------- | ----- | ----- \\n\"\n",
    "                 \"Critical Temperature: | \"+ str(self.t_crit) + \"| K \\n\"\n",
    "                 \"Speed of Sound: | \" + str(self.v_crit) +\"| m / s \\n\"\n",
    "                 \"Critical Pressure: | \" + str(self.p_crit) +\"| Pa \\n\"\n",
    "                 \"Critical Density: | \" + str(self.rho_crit) + \" | kg / m^3 \\n\"\n",
    "                 \"Massflow: | \" + str(self.massflow) + \" | $ kg / s $ \\n \"\n",
    "                 \"Massflow (total): |\" + str(self.massflow*self.inlets)) + \"| $ kg / s $ \\n \"\n",
    "    \n",
    "        display(Markdown(outputTable))   "
   ]
  },
  {
   "cell_type": "code",
   "execution_count": null,
   "metadata": {},
   "outputs": [],
   "source": [
    "class Combustor:\n",
    "    "
   ]
  },
  {
   "cell_type": "code",
   "execution_count": 184,
   "metadata": {},
   "outputs": [
    {
     "data": {
      "application/vnd.jupyter.widget-view+json": {
       "model_id": "18919d06d7514b70bd4c89b70b3e07c7",
       "version_major": 2,
       "version_minor": 0
      },
      "text/plain": [
       "HBox(children=(VBox(children=(Label(value='Air'), FloatSlider(value=0.5, description='Dia (mm)', max=1.0, min=…"
      ]
     },
     "metadata": {},
     "output_type": "display_data"
    },
    {
     "data": {
      "application/vnd.jupyter.widget-view+json": {
       "model_id": "93120c64aac84db7ad4a6e36a03a8daf",
       "version_major": 2,
       "version_minor": 0
      },
      "text/plain": [
       "Output()"
      ]
     },
     "metadata": {},
     "output_type": "display_data"
    }
   ],
   "source": [
    "# initialize the swirlers\n",
    "airNozzle = Swirler(\"Air\",1,1,20,14,1.4,287.058)\n",
    "propaneNozzle = Swirler(\"Propane\",1,1,20,14,1.4,287.058)\n",
    "\n",
    "# calcTogether - run calculations for both propane and air\n",
    "# arguments are air throat size, air temp, air pressure, air inlet count,\n",
    "# propane throat size, propane temp, propane pressure, and propane inlet count\n",
    "def calcTogether(ax,at,ap,an,px,pt,pp,pn):\n",
    "    airNozzle.changeIndependents(ax, ap, at, an)\n",
    "    propaneNozzle.changeIndependents(ax, ap, at, an)\n",
    "\n",
    "\n",
    "\n",
    "\n",
    "ui = widgets.HBox([airNozzle.wControls,propaneNozzle.wControls])\n",
    "\n",
    "out = widgets.interactive_output(calcTogether, {'ax':airNozzle.wThroat,\n",
    "                                                 'at':airNozzle.wIntemp,\n",
    "                                                 'ap':airNozzle.wInpressure,\n",
    "                                                 'an':airNozzle.wInlets,\n",
    "                                                 'px':propaneNozzle.wThroat,\n",
    "                                                 'pt':propaneNozzle.wIntemp,\n",
    "                                                 'pp':propaneNozzle.wInpressure,\n",
    "                                                 'pn':propaneNozzle.wInlets})\n",
    "\n",
    "display(ui,out)\n",
    "\n",
    "\n",
    "\n"
   ]
  },
  {
   "cell_type": "code",
   "execution_count": null,
   "metadata": {},
   "outputs": [],
   "source": []
  }
 ],
 "metadata": {
  "kernelspec": {
   "display_name": "Python 3",
   "language": "python",
   "name": "python3"
  },
  "language_info": {
   "codemirror_mode": {
    "name": "ipython",
    "version": 3
   },
   "file_extension": ".py",
   "mimetype": "text/x-python",
   "name": "python",
   "nbconvert_exporter": "python",
   "pygments_lexer": "ipython3",
   "version": "3.6.5"
  }
 },
 "nbformat": 4,
 "nbformat_minor": 2
}
